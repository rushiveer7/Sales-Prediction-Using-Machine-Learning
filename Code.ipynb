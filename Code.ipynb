{
  "nbformat": 4,
  "nbformat_minor": 0,
  "metadata": {
    "colab": {
      "provenance": []
    },
    "kernelspec": {
      "name": "python3",
      "display_name": "Python 3"
    },
    "language_info": {
      "name": "python"
    }
  },
  "cells": [
    {
      "cell_type": "code",
      "execution_count": null,
      "metadata": {
        "id": "2R-NsoHVw0jI"
      },
      "outputs": [],
      "source": [
        "import pandas as pd\n",
        "from sklearn.preprocessing import LabelEncoder\n",
        "import numpy as np\n",
        "from sklearn.model_selection import train_test_split\n",
        "from sklearn.preprocessing import StandardScaler\n",
        "from sklearn.svm import SVC\n",
        "from sklearn.linear_model import LogisticRegression\n",
        "from sklearn.neighbors import KNeighborsClassifier\n",
        "from sklearn import metrics\n",
        "from imblearn.over_sampling import RandomOverSampler\n",
        "from sklearn.metrics import accuracy_score, precision_score, recall_score, f1_score, classification_report"
      ]
    },
    {
      "cell_type": "code",
      "source": [
        "\n",
        "def load_data():\n",
        "  df = pd.read_csv('iphone_purchase_data.csv')\n",
        "  return df\n"
      ],
      "metadata": {
        "id": "b7q8p6BJw_XD"
      },
      "execution_count": null,
      "outputs": []
    },
    {
      "cell_type": "code",
      "source": [
        "def preprocess_data(df):\n",
        "    df.isna().sum()\n",
        "\n",
        "    le = LabelEncoder()\n",
        "    df['Gender'] = le.fit_transform(df['Gender'])\n",
        "    df['Location'] = le.fit_transform(df['Location'])\n",
        "    df['Has Apple Products'] = le.fit_transform(df['Has Apple Products'])\n",
        "\n",
        "    # Encode the \"Employment Status\" column with custom values\n",
        "    employment_status_mapping = {\n",
        "        'Employed Full-Time': 3,\n",
        "        'Employed Part-Time': 2,\n",
        "        'Student': 1,\n",
        "        'Unemployed': 0\n",
        "    }\n",
        "\n",
        "    df['Employment Status'] = df['Employment Status'].map(employment_status_mapping)\n",
        "    print(df)\n",
        "    return df"
      ],
      "metadata": {
        "id": "BV6E0NTe7zGo"
      },
      "execution_count": null,
      "outputs": []
    },
    {
      "cell_type": "code",
      "source": [
        "def drop_features(df, threshold):\n",
        "    corr_matrix = df.corr()\n",
        "    co = corr_matrix['Will Purchase iPhone'].sort_values(ascending=False)\n",
        "    print(\"Correlation between each feature and Will purchase iphone\")\n",
        "    print(co)\n",
        "    cols_to_drop = []\n",
        "    for i in co.index:\n",
        "        if abs(co[i]) < threshold:\n",
        "            cols_to_drop.append(i)\n",
        "    df.drop(cols_to_drop, axis=1, inplace=True)\n",
        "    return df"
      ],
      "metadata": {
        "id": "9b0UT0jV90mn"
      },
      "execution_count": null,
      "outputs": []
    },
    {
      "cell_type": "code",
      "source": [
        "def feature_scaling(X_train, X_test):\n",
        "    ss_X = StandardScaler()\n",
        "    X_train = ss_X.fit_transform(X_train)\n",
        "    X_test = ss_X.transform(X_test)\n",
        "    return X_train, X_test"
      ],
      "metadata": {
        "id": "wQyzhYMY07rF"
      },
      "execution_count": null,
      "outputs": []
    },
    {
      "cell_type": "code",
      "source": [
        "def fit_classifier(X_train, y_train, classifier):\n",
        "    if classifier == \"SVM\":\n",
        "        classifier = SVC(kernel = \"linear\", random_state=0)\n",
        "    elif classifier == \"Logistic Regression\":\n",
        "        classifier = LogisticRegression(random_state=0)\n",
        "    elif classifier == \"KNN\":\n",
        "        classifier = KNeighborsClassifier(n_neighbors=5, metric='minkowski', p=2)\n",
        "    classifier.fit(X_train, y_train)\n",
        "    return classifier"
      ],
      "metadata": {
        "id": "vRAxXH0Y6O5P"
      },
      "execution_count": null,
      "outputs": []
    },
    {
      "cell_type": "code",
      "source": [
        "def make_prediction(X_test, classifier):\n",
        "    y_pred = classifier.predict(X_test)\n",
        "    return y_pred"
      ],
      "metadata": {
        "id": "EOEKRkkN6RvK"
      },
      "execution_count": null,
      "outputs": []
    },
    {
      "cell_type": "code",
      "source": [
        "def confusion_matrix(y_test, y_pred):\n",
        "    cm = metrics.confusion_matrix(y_test, y_pred)\n",
        "    print(cm)\n",
        "    accuracy = metrics.accuracy_score(y_test, y_pred)\n",
        "    print(\"Accuracy score:\",accuracy)\n",
        "    precision = metrics.precision_score(y_test, y_pred)\n",
        "    print(\"Precision score:\",precision)\n",
        "    recall = metrics.recall_score(y_test, y_pred)\n",
        "    print(\"Recall score:\",recall)"
      ],
      "metadata": {
        "id": "JgdhKHYo6V_9"
      },
      "execution_count": null,
      "outputs": []
    },
    {
      "cell_type": "code",
      "source": [
        "def main():\n",
        "    # Load data\n",
        "    df = load_data()\n",
        "\n",
        "    # Encode categorical features\n",
        "    df = preprocess_data(df)\n",
        "\n",
        "    # Drop features with low correlation\n",
        "    df = drop_features(df, 0.15)\n",
        "\n",
        "    # Split data into training and test sets\n",
        "    X = df.drop('Will Purchase iPhone', axis=1)\n",
        "    y = df['Will Purchase iPhone']\n",
        "\n",
        "    # Split data into training and test sets\n",
        "    X = df.drop('Will Purchase iPhone', axis=1)\n",
        "    y = df['Will Purchase iPhone']\n",
        "    X_train, X_test, y_train, y_test = train_test_split(X, y, test_size=0.2, random_state=42)\n",
        "\n",
        "\n",
        "    # Oversample minority class (resampled)\n",
        "    oversample = RandomOverSampler(random_state=42)\n",
        "    X_train, y_train = oversample.fit_resample(X, y)\n",
        "\n",
        "    # Feature scaling\n",
        "    X_train, X_test = feature_scaling(X_train, X_test)\n",
        "\n",
        "\n",
        "    classifier1 = fit_classifier(X_train, y_train, \"KNN\")\n",
        "    classifier2 = fit_classifier(X_train, y_train, \"Logistic Regression\")\n",
        "    classifier3 = fit_classifier(X_train, y_train, \"SVM\")\n",
        "    \n",
        "    print(\"KNN\")\n",
        "    y_pred1 = make_prediction(X_test, classifier1)\n",
        "    confusion_matrix(y_test, y_pred1)\n",
        "    \n",
        "    print(\"Logistic Regression\")\n",
        "    y_pred2 = make_prediction(X_test, classifier2)\n",
        "    confusion_matrix(y_test, y_pred2)\n",
        "    \n",
        "    print(\"SVM\")\n",
        "    y_pred3 = make_prediction(X_test, classifier3)\n",
        "    confusion_matrix(y_test, y_pred3)\n",
        "\n"
      ],
      "metadata": {
        "id": "XVN01nrq6htt"
      },
      "execution_count": null,
      "outputs": []
    },
    {
      "cell_type": "code",
      "source": [
        "if __name__ == \"__main__\":\n",
        "    main()"
      ],
      "metadata": {
        "colab": {
          "base_uri": "https://localhost:8080/"
        },
        "id": "aqBCm3167H6O",
        "outputId": "d534c517-fcdb-4410-e2a0-bc77014c0089"
      },
      "execution_count": null,
      "outputs": [
        {
          "output_type": "stream",
          "name": "stdout",
          "text": [
            "     Age  Gender  Salary  Employment Status  Location  Has Apple Products  \\\n",
            "0     34       1   89000                  1         2                   1   \n",
            "1     59       2   88000                  1         2                   0   \n",
            "2     31       2   95000                  3         0                   1   \n",
            "3     58       2  201000                  3         0                   1   \n",
            "4     46       1  166000                  1         1                   0   \n",
            "..   ...     ...     ...                ...       ...                 ...   \n",
            "995   41       0   74000                  1         1                   0   \n",
            "996   31       1  153000                  1         1                   0   \n",
            "997   47       1  247000                  3         2                   0   \n",
            "998   20       0  239000                  0         2                   0   \n",
            "999   63       2  267000                  0         2                   0   \n",
            "\n",
            "     Will Purchase iPhone  \n",
            "0                       0  \n",
            "1                       0  \n",
            "2                       1  \n",
            "3                       0  \n",
            "4                       0  \n",
            "..                    ...  \n",
            "995                     0  \n",
            "996                     0  \n",
            "997                     0  \n",
            "998                     0  \n",
            "999                     0  \n",
            "\n",
            "[1000 rows x 7 columns]\n",
            "Correlation between each feature and Will purchase iphone\n",
            "Will Purchase iPhone    1.000000\n",
            "Salary                  0.285522\n",
            "Employment Status       0.269726\n",
            "Has Apple Products      0.198477\n",
            "Location                0.157183\n",
            "Gender                  0.022590\n",
            "Age                    -0.226008\n",
            "Name: Will Purchase iPhone, dtype: float64\n",
            "KNN\n",
            "[[89 31]\n",
            " [ 9 71]]\n",
            "Accuracy score: 0.8\n",
            "Precision score: 0.696078431372549\n",
            "Recall score: 0.8875\n",
            "Logistic Regression\n",
            "[[86 34]\n",
            " [24 56]]\n",
            "Accuracy score: 0.71\n",
            "Precision score: 0.6222222222222222\n",
            "Recall score: 0.7\n",
            "SVM\n",
            "[[85 35]\n",
            " [21 59]]\n",
            "Accuracy score: 0.72\n",
            "Precision score: 0.6276595744680851\n",
            "Recall score: 0.7375\n"
          ]
        }
      ]
    }
  ]
}